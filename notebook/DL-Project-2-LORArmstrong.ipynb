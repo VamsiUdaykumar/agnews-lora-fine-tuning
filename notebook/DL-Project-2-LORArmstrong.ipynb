{
 "cells": [
  {
   "cell_type": "code",
   "execution_count": null,
   "id": "794a8427",
   "metadata": {
    "colab": {
     "base_uri": "https://localhost:8080/"
    },
    "id": "794a8427",
    "outputId": "bdd59db5-9056-45d0-f07b-f581a29e90d0"
   },
   "outputs": [
    {
     "name": "stdout",
     "output_type": "stream",
     "text": [
      "\u001b[?25l   \u001b[90m━━━━━━━━━━━━━━━━━━━━━━━━━━━━━━━━━━━━━━━━\u001b[0m \u001b[32m0.0/491.2 kB\u001b[0m \u001b[31m?\u001b[0m eta \u001b[36m-:--:--\u001b[0m\r\n",
      "\u001b[2K   \u001b[91m━━━━━━━━━━━━━━━━━━━━━━━━━━━━━━━━━━━━━━━\u001b[0m\u001b[90m╺\u001b[0m \u001b[32m481.3/491.2 kB\u001b[0m \u001b[31m27.2 MB/s\u001b[0m eta \u001b[36m0:00:01\u001b[0m\r\n",
      "\u001b[2K   \u001b[90m━━━━━━━━━━━━━━━━━━━━━━━━━━━━━━━━━━━━━━━━\u001b[0m \u001b[32m491.2/491.2 kB\u001b[0m \u001b[31m14.5 MB/s\u001b[0m eta \u001b[36m0:00:00\u001b[0m\n",
      "\u001b[?25h\u001b[?25l   \u001b[90m━━━━━━━━━━━━━━━━━━━━━━━━━━━━━━━━━━━━━━━━\u001b[0m \u001b[32m0.0/84.0 kB\u001b[0m \u001b[31m?\u001b[0m eta \u001b[36m-:--:--\u001b[0m\r\n",
      "\u001b[2K   \u001b[90m━━━━━━━━━━━━━━━━━━━━━━━━━━━━━━━━━━━━━━━━\u001b[0m \u001b[32m84.0/84.0 kB\u001b[0m \u001b[31m8.3 MB/s\u001b[0m eta \u001b[36m0:00:00\u001b[0m\n",
      "\u001b[?25h\u001b[?25l   \u001b[90m━━━━━━━━━━━━━━━━━━━━━━━━━━━━━━━━━━━━━━━━\u001b[0m \u001b[32m0.0/116.3 kB\u001b[0m \u001b[31m?\u001b[0m eta \u001b[36m-:--:--\u001b[0m\r\n",
      "\u001b[2K   \u001b[90m━━━━━━━━━━━━━━━━━━━━━━━━━━━━━━━━━━━━━━━━\u001b[0m \u001b[32m116.3/116.3 kB\u001b[0m \u001b[31m10.8 MB/s\u001b[0m eta \u001b[36m0:00:00\u001b[0m\n",
      "\u001b[2K   \u001b[90m━━━━━━━━━━━━━━━━━━━━━━━━━━━━━━━━━━━━━━━━\u001b[0m \u001b[32m183.9/183.9 kB\u001b[0m \u001b[31m10.8 MB/s\u001b[0m eta \u001b[36m0:00:00\u001b[0m\n",
      "\u001b[2K   \u001b[90m━━━━━━━━━━━━━━━━━━━━━━━━━━━━━━━━━━━━━━━━\u001b[0m \u001b[32m143.5/143.5 kB\u001b[0m \u001b[31m10.9 MB/s\u001b[0m eta \u001b[36m0:00:00\u001b[0m\n",
      "\u001b[2K   \u001b[90m━━━━━━━━━━━━━━━━━━━━━━━━━━━━━━━━━━━━━━━━\u001b[0m \u001b[32m363.4/363.4 MB\u001b[0m \u001b[31m1.4 MB/s\u001b[0m eta \u001b[36m0:00:00\u001b[0m\n",
      "\u001b[2K   \u001b[90m━━━━━━━━━━━━━━━━━━━━━━━━━━━━━━━━━━━━━━━━\u001b[0m \u001b[32m13.8/13.8 MB\u001b[0m \u001b[31m87.7 MB/s\u001b[0m eta \u001b[36m0:00:00\u001b[0m\n",
      "\u001b[2K   \u001b[90m━━━━━━━━━━━━━━━━━━━━━━━━━━━━━━━━━━━━━━━━\u001b[0m \u001b[32m24.6/24.6 MB\u001b[0m \u001b[31m68.4 MB/s\u001b[0m eta \u001b[36m0:00:00\u001b[0m\n",
      "\u001b[2K   \u001b[90m━━━━━━━━━━━━━━━━━━━━━━━━━━━━━━━━━━━━━━━━\u001b[0m \u001b[32m883.7/883.7 kB\u001b[0m \u001b[31m43.4 MB/s\u001b[0m eta \u001b[36m0:00:00\u001b[0m\n",
      "\u001b[2K   \u001b[90m━━━━━━━━━━━━━━━━━━━━━━━━━━━━━━━━━━━━━━━━\u001b[0m \u001b[32m664.8/664.8 MB\u001b[0m \u001b[31m2.1 MB/s\u001b[0m eta \u001b[36m0:00:00\u001b[0m\n",
      "\u001b[2K   \u001b[90m━━━━━━━━━━━━━━━━━━━━━━━━━━━━━━━━━━━━━━━━\u001b[0m \u001b[32m211.5/211.5 MB\u001b[0m \u001b[31m6.3 MB/s\u001b[0m eta \u001b[36m0:00:00\u001b[0m\n",
      "\u001b[2K   \u001b[90m━━━━━━━━━━━━━━━━━━━━━━━━━━━━━━━━━━━━━━━━\u001b[0m \u001b[32m56.3/56.3 MB\u001b[0m \u001b[31m13.0 MB/s\u001b[0m eta \u001b[36m0:00:00\u001b[0m\n",
      "\u001b[2K   \u001b[90m━━━━━━━━━━━━━━━━━━━━━━━━━━━━━━━━━━━━━━━━\u001b[0m \u001b[32m127.9/127.9 MB\u001b[0m \u001b[31m7.5 MB/s\u001b[0m eta \u001b[36m0:00:00\u001b[0m\n",
      "\u001b[2K   \u001b[90m━━━━━━━━━━━━━━━━━━━━━━━━━━━━━━━━━━━━━━━━\u001b[0m \u001b[32m207.5/207.5 MB\u001b[0m \u001b[31m5.8 MB/s\u001b[0m eta \u001b[36m0:00:00\u001b[0m\n",
      "\u001b[2K   \u001b[90m━━━━━━━━━━━━━━━━━━━━━━━━━━━━━━━━━━━━━━━━\u001b[0m \u001b[32m21.1/21.1 MB\u001b[0m \u001b[31m35.7 MB/s\u001b[0m eta \u001b[36m0:00:00\u001b[0m\n",
      "\u001b[2K   \u001b[90m━━━━━━━━━━━━━━━━━━━━━━━━━━━━━━━━━━━━━━━━\u001b[0m \u001b[32m194.8/194.8 kB\u001b[0m \u001b[31m15.7 MB/s\u001b[0m eta \u001b[36m0:00:00\u001b[0m\n",
      "\u001b[?25h\u001b[31mERROR: pip's dependency resolver does not currently take into account all the packages that are installed. This behaviour is the source of the following dependency conflicts.\n",
      "gcsfs 2025.3.2 requires fsspec==2025.3.2, but you have fsspec 2024.12.0 which is incompatible.\u001b[0m\u001b[31m\n",
      "\u001b[0m"
     ]
    }
   ],
   "source": [
    "#Install dependencies\n",
    "!pip install -q transformers datasets evaluate peft accelerate"
   ]
  },
  {
   "cell_type": "code",
   "execution_count": null,
   "id": "e229f9e2",
   "metadata": {
    "id": "e229f9e2"
   },
   "outputs": [],
   "source": [
    "import os\n",
    "import pandas as pd\n",
    "import numpy as np\n",
    "from datasets import load_dataset, Dataset\n",
    "from transformers import (\n",
    "    RobertaTokenizer,\n",
    "    RobertaForSequenceClassification,\n",
    "    TrainingArguments,\n",
    "    Trainer,\n",
    "    DataCollatorWithPadding\n",
    ")\n",
    "from peft import LoraConfig, get_peft_model, TaskType\n",
    "import evaluate\n",
    "from google.colab import files\n",
    "\n",
    "os.environ[\"TOKENIZERS_PARALLELISM\"] = \"false\"\n",
    "os.environ[\"WANDB_DISABLED\"] = \"true\""
   ]
  },
  {
   "cell_type": "code",
   "execution_count": null,
   "id": "8905a70b",
   "metadata": {
    "colab": {
     "base_uri": "https://localhost:8080/",
     "height": 73
    },
    "id": "8905a70b",
    "outputId": "22c907a0-e183-4756-a5e6-e38f1c69e03a"
   },
   "outputs": [
    {
     "data": {
      "text/html": [
       "\n",
       "     <input type=\"file\" id=\"files-2b19023e-afec-40e7-a584-e56e2ece7730\" name=\"files[]\" multiple disabled\n",
       "        style=\"border:none\" />\n",
       "     <output id=\"result-2b19023e-afec-40e7-a584-e56e2ece7730\">\n",
       "      Upload widget is only available when the cell has been executed in the\n",
       "      current browser session. Please rerun this cell to enable.\n",
       "      </output>\n",
       "      <script>// Copyright 2017 Google LLC\n",
       "//\n",
       "// Licensed under the Apache License, Version 2.0 (the \"License\");\n",
       "// you may not use this file except in compliance with the License.\n",
       "// You may obtain a copy of the License at\n",
       "//\n",
       "//      http://www.apache.org/licenses/LICENSE-2.0\n",
       "//\n",
       "// Unless required by applicable law or agreed to in writing, software\n",
       "// distributed under the License is distributed on an \"AS IS\" BASIS,\n",
       "// WITHOUT WARRANTIES OR CONDITIONS OF ANY KIND, either express or implied.\n",
       "// See the License for the specific language governing permissions and\n",
       "// limitations under the License.\n",
       "\n",
       "/**\n",
       " * @fileoverview Helpers for google.colab Python module.\n",
       " */\n",
       "(function(scope) {\n",
       "function span(text, styleAttributes = {}) {\n",
       "  const element = document.createElement('span');\n",
       "  element.textContent = text;\n",
       "  for (const key of Object.keys(styleAttributes)) {\n",
       "    element.style[key] = styleAttributes[key];\n",
       "  }\n",
       "  return element;\n",
       "}\n",
       "\n",
       "// Max number of bytes which will be uploaded at a time.\n",
       "const MAX_PAYLOAD_SIZE = 100 * 1024;\n",
       "\n",
       "function _uploadFiles(inputId, outputId) {\n",
       "  const steps = uploadFilesStep(inputId, outputId);\n",
       "  const outputElement = document.getElementById(outputId);\n",
       "  // Cache steps on the outputElement to make it available for the next call\n",
       "  // to uploadFilesContinue from Python.\n",
       "  outputElement.steps = steps;\n",
       "\n",
       "  return _uploadFilesContinue(outputId);\n",
       "}\n",
       "\n",
       "// This is roughly an async generator (not supported in the browser yet),\n",
       "// where there are multiple asynchronous steps and the Python side is going\n",
       "// to poll for completion of each step.\n",
       "// This uses a Promise to block the python side on completion of each step,\n",
       "// then passes the result of the previous step as the input to the next step.\n",
       "function _uploadFilesContinue(outputId) {\n",
       "  const outputElement = document.getElementById(outputId);\n",
       "  const steps = outputElement.steps;\n",
       "\n",
       "  const next = steps.next(outputElement.lastPromiseValue);\n",
       "  return Promise.resolve(next.value.promise).then((value) => {\n",
       "    // Cache the last promise value to make it available to the next\n",
       "    // step of the generator.\n",
       "    outputElement.lastPromiseValue = value;\n",
       "    return next.value.response;\n",
       "  });\n",
       "}\n",
       "\n",
       "/**\n",
       " * Generator function which is called between each async step of the upload\n",
       " * process.\n",
       " * @param {string} inputId Element ID of the input file picker element.\n",
       " * @param {string} outputId Element ID of the output display.\n",
       " * @return {!Iterable<!Object>} Iterable of next steps.\n",
       " */\n",
       "function* uploadFilesStep(inputId, outputId) {\n",
       "  const inputElement = document.getElementById(inputId);\n",
       "  inputElement.disabled = false;\n",
       "\n",
       "  const outputElement = document.getElementById(outputId);\n",
       "  outputElement.innerHTML = '';\n",
       "\n",
       "  const pickedPromise = new Promise((resolve) => {\n",
       "    inputElement.addEventListener('change', (e) => {\n",
       "      resolve(e.target.files);\n",
       "    });\n",
       "  });\n",
       "\n",
       "  const cancel = document.createElement('button');\n",
       "  inputElement.parentElement.appendChild(cancel);\n",
       "  cancel.textContent = 'Cancel upload';\n",
       "  const cancelPromise = new Promise((resolve) => {\n",
       "    cancel.onclick = () => {\n",
       "      resolve(null);\n",
       "    };\n",
       "  });\n",
       "\n",
       "  // Wait for the user to pick the files.\n",
       "  const files = yield {\n",
       "    promise: Promise.race([pickedPromise, cancelPromise]),\n",
       "    response: {\n",
       "      action: 'starting',\n",
       "    }\n",
       "  };\n",
       "\n",
       "  cancel.remove();\n",
       "\n",
       "  // Disable the input element since further picks are not allowed.\n",
       "  inputElement.disabled = true;\n",
       "\n",
       "  if (!files) {\n",
       "    return {\n",
       "      response: {\n",
       "        action: 'complete',\n",
       "      }\n",
       "    };\n",
       "  }\n",
       "\n",
       "  for (const file of files) {\n",
       "    const li = document.createElement('li');\n",
       "    li.append(span(file.name, {fontWeight: 'bold'}));\n",
       "    li.append(span(\n",
       "        `(${file.type || 'n/a'}) - ${file.size} bytes, ` +\n",
       "        `last modified: ${\n",
       "            file.lastModifiedDate ? file.lastModifiedDate.toLocaleDateString() :\n",
       "                                    'n/a'} - `));\n",
       "    const percent = span('0% done');\n",
       "    li.appendChild(percent);\n",
       "\n",
       "    outputElement.appendChild(li);\n",
       "\n",
       "    const fileDataPromise = new Promise((resolve) => {\n",
       "      const reader = new FileReader();\n",
       "      reader.onload = (e) => {\n",
       "        resolve(e.target.result);\n",
       "      };\n",
       "      reader.readAsArrayBuffer(file);\n",
       "    });\n",
       "    // Wait for the data to be ready.\n",
       "    let fileData = yield {\n",
       "      promise: fileDataPromise,\n",
       "      response: {\n",
       "        action: 'continue',\n",
       "      }\n",
       "    };\n",
       "\n",
       "    // Use a chunked sending to avoid message size limits. See b/62115660.\n",
       "    let position = 0;\n",
       "    do {\n",
       "      const length = Math.min(fileData.byteLength - position, MAX_PAYLOAD_SIZE);\n",
       "      const chunk = new Uint8Array(fileData, position, length);\n",
       "      position += length;\n",
       "\n",
       "      const base64 = btoa(String.fromCharCode.apply(null, chunk));\n",
       "      yield {\n",
       "        response: {\n",
       "          action: 'append',\n",
       "          file: file.name,\n",
       "          data: base64,\n",
       "        },\n",
       "      };\n",
       "\n",
       "      let percentDone = fileData.byteLength === 0 ?\n",
       "          100 :\n",
       "          Math.round((position / fileData.byteLength) * 100);\n",
       "      percent.textContent = `${percentDone}% done`;\n",
       "\n",
       "    } while (position < fileData.byteLength);\n",
       "  }\n",
       "\n",
       "  // All done.\n",
       "  yield {\n",
       "    response: {\n",
       "      action: 'complete',\n",
       "    }\n",
       "  };\n",
       "}\n",
       "\n",
       "scope.google = scope.google || {};\n",
       "scope.google.colab = scope.google.colab || {};\n",
       "scope.google.colab._files = {\n",
       "  _uploadFiles,\n",
       "  _uploadFilesContinue,\n",
       "};\n",
       "})(self);\n",
       "</script> "
      ],
      "text/plain": [
       "<IPython.core.display.HTML object>"
      ]
     },
     "metadata": {},
     "output_type": "display_data"
    },
    {
     "name": "stdout",
     "output_type": "stream",
     "text": [
      "Saving test_unlabelled.pkl to test_unlabelled.pkl\n"
     ]
    }
   ],
   "source": [
    "#Upload test_unlabelled.pkl\n",
    "uploaded = files.upload()\n",
    "test_pkl_name = list(uploaded.keys())[0]"
   ]
  },
  {
   "cell_type": "code",
   "execution_count": null,
   "id": "f23772ef",
   "metadata": {
    "colab": {
     "base_uri": "https://localhost:8080/",
     "height": 301,
     "referenced_widgets": [
      "57ea2bf1a6614465b82fd6ec3dd7b5f6",
      "0d5f99b10659477fbe311a47cabdfb96",
      "1195d5ac957d4a3aa4885f5fa5bb1b2c",
      "26bc77abf6b945718e18c1d859a50321",
      "901ab11be39c4ce5bccf12f8112ebc11",
      "0ed104908516487b8ffd7bb065f0ce2a",
      "c3dc16260aa84dc98de8d0b95eb029e3",
      "897df541f131492099645288e35336a6",
      "e45ced4f77034d7f9ec9f5f80f759936",
      "130c07d7533c489ab2f520ece6117893",
      "b6feb597b58d414cb0f705161038f0f2",
      "e8f13c923c1a43c1ae6f1a71aae022fa",
      "2334718d97ea49919f8d67be55f610ca",
      "ab27f155d4794299a36a8211eb6f1c3d",
      "09b5c943a7724abeaeb727d2233c730e",
      "9519262ae170451da06e53943b4820c8",
      "a895dde5804044e39cd6cbfa5b446d83",
      "d9965f10efa440bba3205ea8c20b0b8d",
      "f57c26f64a13444a8b878a7c3598c420",
      "26da9dbccb144917bd73dbc19eebde3c",
      "40e8a1a49a5342b1a5e592ce13cbe23e",
      "0697f0eed5904048a49844ba41d49692",
      "be95fc03153d4658b652c05c452eeac1",
      "09dc84da1ba749709d14584d83fee6bf",
      "449969b2d8d34974a7068e1ce0c14739",
      "7cbaf4f81d104d72ab067773a0693756",
      "78e3353fa31e4ae1bb120669a031c995",
      "868a682cb24c423283e72f789704ad66",
      "f18f9889a0114d8baf7686f6569ffc0e",
      "06b6f83572d94fb2ac85f011b0cb5552",
      "2184c275f0ee40fb868c657f80545bef",
      "1b27e76df2024be3ae708011f927c317",
      "639909a5563646a597d94ca2a5243ff5",
      "77993cf860194acda3e5b92c68fc1ac5",
      "c9d655fa47c64711aaae9459c7fd28bc",
      "7b6d9541b4be43aa9229946642fbf24d",
      "a70fe1918cca48eabc447c13cfb2f73c",
      "afee46a24d4246f8a091f6ace4d604be",
      "78758ef1f25b47fbbdfe06233b82071f",
      "918bad1ee91b4c7da48fe4a52bcbc28c",
      "e6863f0d5c1c4aee95ab3b6a7b06db51",
      "02d577e3f6654bdeb35af6b21ecab26d",
      "8bab23073c56435cb251a64d3bdba585",
      "460e62209b2043f1984c825437f188fb",
      "3295f06dd3b34a01977cd986aabfb20f",
      "953d2b64214e48fb819521e7a66adc51",
      "62dbe2632ab64bc281515172569202a3",
      "89180b368dd74b3a91ac71a20e30f70b",
      "268d5465556a4a2e8690856f4148a855",
      "c513d48908084c3cba315beaf2da4339",
      "af991832fb0c4c66b6a2600bd5c93651",
      "112a3006d30f4df8b174b0e05d4625f4",
      "e253e5e5f7694285bd57b65c00c3fd01",
      "1955f751e71148b089b68da17ef476f6",
      "76a34afe9f084295841db6cb00dd5281"
     ]
    },
    "id": "f23772ef",
    "outputId": "70ab290a-89ff-4ffa-ca52-613f58ac547f"
   },
   "outputs": [
    {
     "name": "stderr",
     "output_type": "stream",
     "text": [
      "/usr/local/lib/python3.11/dist-packages/huggingface_hub/utils/_auth.py:94: UserWarning: \n",
      "The secret `HF_TOKEN` does not exist in your Colab secrets.\n",
      "To authenticate with the Hugging Face Hub, create a token in your settings tab (https://huggingface.co/settings/tokens), set it as secret in your Google Colab and restart your session.\n",
      "You will be able to reuse this secret in all of your notebooks.\n",
      "Please note that authentication is recommended but still optional to access public models or datasets.\n",
      "  warnings.warn(\n"
     ]
    },
    {
     "data": {
      "application/vnd.jupyter.widget-view+json": {
       "model_id": "57ea2bf1a6614465b82fd6ec3dd7b5f6",
       "version_major": 2,
       "version_minor": 0
      },
      "text/plain": [
       "README.md:   0%|          | 0.00/8.07k [00:00<?, ?B/s]"
      ]
     },
     "metadata": {},
     "output_type": "display_data"
    },
    {
     "data": {
      "application/vnd.jupyter.widget-view+json": {
       "model_id": "e8f13c923c1a43c1ae6f1a71aae022fa",
       "version_major": 2,
       "version_minor": 0
      },
      "text/plain": [
       "train-00000-of-00001.parquet:   0%|          | 0.00/18.6M [00:00<?, ?B/s]"
      ]
     },
     "metadata": {},
     "output_type": "display_data"
    },
    {
     "data": {
      "application/vnd.jupyter.widget-view+json": {
       "model_id": "be95fc03153d4658b652c05c452eeac1",
       "version_major": 2,
       "version_minor": 0
      },
      "text/plain": [
       "test-00000-of-00001.parquet:   0%|          | 0.00/1.23M [00:00<?, ?B/s]"
      ]
     },
     "metadata": {},
     "output_type": "display_data"
    },
    {
     "data": {
      "application/vnd.jupyter.widget-view+json": {
       "model_id": "77993cf860194acda3e5b92c68fc1ac5",
       "version_major": 2,
       "version_minor": 0
      },
      "text/plain": [
       "Generating train split:   0%|          | 0/120000 [00:00<?, ? examples/s]"
      ]
     },
     "metadata": {},
     "output_type": "display_data"
    },
    {
     "data": {
      "application/vnd.jupyter.widget-view+json": {
       "model_id": "3295f06dd3b34a01977cd986aabfb20f",
       "version_major": 2,
       "version_minor": 0
      },
      "text/plain": [
       "Generating test split:   0%|          | 0/7600 [00:00<?, ? examples/s]"
      ]
     },
     "metadata": {},
     "output_type": "display_data"
    }
   ],
   "source": [
    "#Load train dataset (AGNews only, rule compliant)\n",
    "dataset = load_dataset(\"ag_news\")\n",
    "train_df = dataset[\"train\"].to_pandas()\n",
    "train_df = train_df.rename(columns={\"text\": \"description\"})\n",
    "train_df[\"title\"] = \"\"\n",
    "train_df[\"text\"] = train_df[\"title\"].fillna(\"\") + \". \" + train_df[\"description\"].fillna(\"\")"
   ]
  },
  {
   "cell_type": "code",
   "execution_count": null,
   "id": "1c239a96",
   "metadata": {
    "id": "1c239a96"
   },
   "outputs": [],
   "source": [
    "#Load test dataset from provided pickle\n",
    "test_df = pd.read_pickle(test_pkl_name)\n",
    "if hasattr(test_df, \"to_pandas\"):\n",
    "    test_df = test_df.to_pandas()\n",
    "if \"description\" not in test_df.columns:\n",
    "    test_df[\"description\"] = test_df[\"text\"] if \"text\" in test_df.columns else \"\"\n",
    "if \"title\" not in test_df.columns:\n",
    "    test_df[\"title\"] = \"\"\n",
    "test_df[\"text\"] = test_df[\"title\"].fillna(\"\") + \". \" + test_df[\"description\"].fillna(\"\")"
   ]
  },
  {
   "cell_type": "code",
   "execution_count": null,
   "id": "a9934542",
   "metadata": {
    "colab": {
     "base_uri": "https://localhost:8080/",
     "height": 241,
     "referenced_widgets": [
      "5090178901024fd3b2d51721489f81bd",
      "131560632c0c4d1fbc81d74120faddb0",
      "24eba9f8196e4a1c8a4e63b4c9d47d3e",
      "0c319f3fd9de4473a7a5d80b44ae1871",
      "0bde2c3d638c4e249ba1ef0b8818e9e4",
      "8d18c89e96c6465bbee84ad85376bf27",
      "4f3a98a074b240e285b5e26ba8035c7a",
      "80438ed9f24d423b9265999a7842a220",
      "9422f04fdc0846de92f3e9a9189683cc",
      "89c4deec227844edabbe294b8b3bad66",
      "23765500b37f43f38d0fc2f37488fd71",
      "d8228b820e3a407b873a135f52507bf4",
      "67f410626e234f8b9bf83bbeafaabece",
      "30f0b0b5498343eb95c7b1bf31abac6e",
      "e90047def17e4ad089adf9392ccc2e80",
      "84f968b9b86e4dcc8a2b87d94886b2a4",
      "3294be73771c4fb9be166fe6ce4cffdc",
      "54c468bd89ac4f0dac65f69cea8478ae",
      "a1d58f07a4994012baf73736977833e7",
      "7c6d404e10014b6cb83435957f22ca81",
      "b02cc90931f249f2aa8890621b3c4689",
      "b07cce5c56634544b413d8867fab6f2c",
      "8a03be32752c4166ab43f28017012a92",
      "7a2930ce9eb143c3a9ac8758cc9f7ae5",
      "c44c0b68fc6445f68f231d516152a419",
      "6da272318a7743c699e1a966c5f94453",
      "ae4c461aba3942c38c1d88fddf534c5b",
      "2f9e8aa6c7a642b39a41e5a8dcaf6064",
      "3ba7646f419d42b181e67350a393cb74",
      "43a25c0d266d4fd4b5543cdc98253fe5",
      "3b3a937881934442aecd86105f6fc2af",
      "fb20f3674ed740f6a46d994e36cd2ad0",
      "1ad1f22c99a34610b4ac021951838acc",
      "89c229ec69584f07ad54d3c5c35e9649",
      "768a7c68c87d42bcb62fbcd6d8cfd8cf",
      "b570533adb77478893d924157e648b93",
      "e8b098d323a648678d2cf512dfdd8414",
      "aa675d5d4944492f9148f5a765dd1a5a",
      "80b3b1ffa7dc4212bb034c5bd639b4eb",
      "b4b07a2daea3460fb24c476659a70aba",
      "f3dacb61108342b7a288487e827fdf6e",
      "41c27372301a47f3afef730628c8aca1",
      "f9df759688354f19ac151d1c59889fa7",
      "8302f29d79ca4ca280cdc114fe87616f",
      "ee42e617db564c46867d84d93deaba8b",
      "aa04353d3a6e406993de67397df1b64c",
      "1f83c84424ac4136aaa5f4de21cdf618",
      "179e7551aebe472b8ecc3bf607771fb8",
      "bd1f9b684fa146b7a485947f139b453e",
      "2dfc56f77cc542e2a2378f54f3bbe332",
      "1ae7b57f019a449087329c8dd5c0285a",
      "fd92b85c6e994726921ba90cf44c1504",
      "2c6c00ebc6014ece94fb898e24fc7358",
      "e648397ee79a476fa5ded7a9008070c5",
      "b878a0554c064ba492df23fcbdfd5473",
      "457266b577184a32954e03e2ff1ec972",
      "36ce51c21b174c13ae95c426ee55577e",
      "b34d0dc62ade4951ac3bdea1fb17f911",
      "5656c1e8d8ed42f58ce42641879fb207",
      "8439ebc440f44a74ab1ede6596688159",
      "85f2d3489c72471abc839462a542ea57",
      "37d0acc1d24c402f81c9d724d4bf0fad",
      "494e603cefe64140a6c9b495c4c62e1d",
      "a2f12100d2f8455e8463e90d3c615e7c",
      "98f0633ed9104529ba12d5ddef504e92",
      "e435063ce2c644efa8949630ed5633e5",
      "5161ca9194ec4d2f8885e8413428c1f0",
      "3922e4464158452689c85223310593ca",
      "f3f3804f1727465496b68da0ce5c3cce",
      "0603e33a27a2461598b81d31fd0f7387",
      "d7a8fccb8ace4052ba7d041982add9e6",
      "6ba8abd91fc64a348f0abb72cabf7ff6",
      "f25ca8385b404e81b9c50e929c3b374c",
      "89ec9334db2d481499c5b634e8542c1a",
      "d89003b4aebf4067a790c173b1132e5a",
      "b0c088defe8a4456ad56116d13992934",
      "2c08d653b09644b2a8144c472066ac35"
     ]
    },
    "id": "a9934542",
    "outputId": "8a3490f1-1a95-4eb4-88d1-70df2d9796ca"
   },
   "outputs": [
    {
     "data": {
      "application/vnd.jupyter.widget-view+json": {
       "model_id": "5090178901024fd3b2d51721489f81bd",
       "version_major": 2,
       "version_minor": 0
      },
      "text/plain": [
       "tokenizer_config.json:   0%|          | 0.00/25.0 [00:00<?, ?B/s]"
      ]
     },
     "metadata": {},
     "output_type": "display_data"
    },
    {
     "data": {
      "application/vnd.jupyter.widget-view+json": {
       "model_id": "d8228b820e3a407b873a135f52507bf4",
       "version_major": 2,
       "version_minor": 0
      },
      "text/plain": [
       "vocab.json:   0%|          | 0.00/899k [00:00<?, ?B/s]"
      ]
     },
     "metadata": {},
     "output_type": "display_data"
    },
    {
     "data": {
      "application/vnd.jupyter.widget-view+json": {
       "model_id": "8a03be32752c4166ab43f28017012a92",
       "version_major": 2,
       "version_minor": 0
      },
      "text/plain": [
       "merges.txt:   0%|          | 0.00/456k [00:00<?, ?B/s]"
      ]
     },
     "metadata": {},
     "output_type": "display_data"
    },
    {
     "data": {
      "application/vnd.jupyter.widget-view+json": {
       "model_id": "89c229ec69584f07ad54d3c5c35e9649",
       "version_major": 2,
       "version_minor": 0
      },
      "text/plain": [
       "tokenizer.json:   0%|          | 0.00/1.36M [00:00<?, ?B/s]"
      ]
     },
     "metadata": {},
     "output_type": "display_data"
    },
    {
     "data": {
      "application/vnd.jupyter.widget-view+json": {
       "model_id": "ee42e617db564c46867d84d93deaba8b",
       "version_major": 2,
       "version_minor": 0
      },
      "text/plain": [
       "config.json:   0%|          | 0.00/481 [00:00<?, ?B/s]"
      ]
     },
     "metadata": {},
     "output_type": "display_data"
    },
    {
     "data": {
      "application/vnd.jupyter.widget-view+json": {
       "model_id": "457266b577184a32954e03e2ff1ec972",
       "version_major": 2,
       "version_minor": 0
      },
      "text/plain": [
       "Map:   0%|          | 0/120000 [00:00<?, ? examples/s]"
      ]
     },
     "metadata": {},
     "output_type": "display_data"
    },
    {
     "data": {
      "application/vnd.jupyter.widget-view+json": {
       "model_id": "5161ca9194ec4d2f8885e8413428c1f0",
       "version_major": 2,
       "version_minor": 0
      },
      "text/plain": [
       "Map:   0%|          | 0/8000 [00:00<?, ? examples/s]"
      ]
     },
     "metadata": {},
     "output_type": "display_data"
    }
   ],
   "source": [
    "#Tokenize\n",
    "tokenizer = RobertaTokenizer.from_pretrained(\"roberta-base\")\n",
    "\n",
    "def tokenize(batch):\n",
    "    return tokenizer(batch[\"text\"], padding=\"max_length\", truncation=True, max_length=128)\n",
    "\n",
    "train_dataset = Dataset.from_pandas(train_df[[\"text\", \"label\"]]).map(tokenize, batched=True)\n",
    "test_dataset = Dataset.from_pandas(test_df[[\"text\"]]).map(tokenize, batched=True)\n",
    "train_dataset = train_dataset.remove_columns([\"text\"]).with_format(\"torch\")\n",
    "test_dataset = test_dataset.remove_columns([\"text\"]).with_format(\"torch\")"
   ]
  },
  {
   "cell_type": "code",
   "execution_count": null,
   "id": "6eb655e1",
   "metadata": {
    "colab": {
     "base_uri": "https://localhost:8080/",
     "height": 156,
     "referenced_widgets": [
      "545a95159ea54b04afba348d0446e2a3",
      "6ae80acfeeba4149a16fd03b64364ff0",
      "5be78bc7a18f480399febf5c7585a950",
      "3cb43634b59f426a825b39e9abba26a2",
      "31a8b5644c33407cae75ee2497fada38",
      "6301c702c21b44c0ba9d97510d4f9849",
      "1b656b9198a5450c8aa6b8511f07c956",
      "7e19fdca59d4413aabb0571f43182b1c",
      "145068ecee7846839c8723e45147c5dd",
      "f73fd05f86a1489caf2756cffd660638",
      "cab55688c7a14c07835b518c2b876f40"
     ]
    },
    "id": "6eb655e1",
    "outputId": "8261682d-b42e-4475-e7a6-3bbd52030efd"
   },
   "outputs": [
    {
     "name": "stderr",
     "output_type": "stream",
     "text": [
      "Xet Storage is enabled for this repo, but the 'hf_xet' package is not installed. Falling back to regular HTTP download. For better performance, install the package with: `pip install huggingface_hub[hf_xet]` or `pip install hf_xet`\n",
      "WARNING:huggingface_hub.file_download:Xet Storage is enabled for this repo, but the 'hf_xet' package is not installed. Falling back to regular HTTP download. For better performance, install the package with: `pip install huggingface_hub[hf_xet]` or `pip install hf_xet`\n"
     ]
    },
    {
     "data": {
      "application/vnd.jupyter.widget-view+json": {
       "model_id": "545a95159ea54b04afba348d0446e2a3",
       "version_major": 2,
       "version_minor": 0
      },
      "text/plain": [
       "model.safetensors:   0%|          | 0.00/499M [00:00<?, ?B/s]"
      ]
     },
     "metadata": {},
     "output_type": "display_data"
    },
    {
     "name": "stderr",
     "output_type": "stream",
     "text": [
      "Some weights of RobertaForSequenceClassification were not initialized from the model checkpoint at roberta-base and are newly initialized: ['classifier.dense.bias', 'classifier.dense.weight', 'classifier.out_proj.bias', 'classifier.out_proj.weight']\n",
      "You should probably TRAIN this model on a down-stream task to be able to use it for predictions and inference.\n"
     ]
    },
    {
     "name": "stdout",
     "output_type": "stream",
     "text": [
      "Trainable params: 888580\n"
     ]
    }
   ],
   "source": [
    "#LoRA-adapted RoBERTa\n",
    "model = RobertaForSequenceClassification.from_pretrained(\"roberta-base\", num_labels=4)\n",
    "for p in model.base_model.parameters():\n",
    "    p.requires_grad = False\n",
    "\n",
    "config = LoraConfig(\n",
    "    r=8,\n",
    "    lora_alpha=16,\n",
    "    target_modules=[\"query\", \"value\"],\n",
    "    lora_dropout=0.1,\n",
    "    bias=\"none\",\n",
    "    task_type=TaskType.SEQ_CLS\n",
    ")\n",
    "\n",
    "model = get_peft_model(model, config)\n",
    "print(\"Trainable params:\", sum(p.numel() for p in model.parameters() if p.requires_grad))"
   ]
  },
  {
   "cell_type": "code",
   "execution_count": null,
   "id": "f1edea19",
   "metadata": {
    "colab": {
     "base_uri": "https://localhost:8080/",
     "height": 796,
     "referenced_widgets": [
      "2b1aa2a883d547d39e084b33719712ec",
      "35be641a10f54d5386934fababc5c8f3",
      "ba534b0b6d404482a2be559d81a6c1e7",
      "4728722132bc45dab904b31cec0e967f",
      "62aa427858f64d9280402f71c9c5d453",
      "40dce5164f854389b6f70d660821f36f",
      "2d92b77912974d779526cd212b4042ef",
      "85a920bec466436488d5e33d247e60f5",
      "cc4fadb67c3b4027be2abfc3737d5215",
      "f52664c131714900b97b622236d197a3",
      "7c750db08deb45838fa544e87ac4f5d4"
     ]
    },
    "id": "f1edea19",
    "outputId": "9b1b9309-bae0-448a-8ff3-3a14ea1096af"
   },
   "outputs": [
    {
     "data": {
      "application/vnd.jupyter.widget-view+json": {
       "model_id": "2b1aa2a883d547d39e084b33719712ec",
       "version_major": 2,
       "version_minor": 0
      },
      "text/plain": [
       "Downloading builder script:   0%|          | 0.00/4.20k [00:00<?, ?B/s]"
      ]
     },
     "metadata": {},
     "output_type": "display_data"
    },
    {
     "name": "stderr",
     "output_type": "stream",
     "text": [
      "Using the `WANDB_DISABLED` environment variable is deprecated and will be removed in v5. Use the --report_to flag to control the integrations used for logging result (for instance --report_to none).\n",
      "<ipython-input-10-c593de2d5ee1>:22: FutureWarning: `tokenizer` is deprecated and will be removed in version 5.0.0 for `Trainer.__init__`. Use `processing_class` instead.\n",
      "  trainer = Trainer(\n",
      "No label_names provided for model class `PeftModelForSequenceClassification`. Since `PeftModel` hides base models input arguments, if label_names is not given, label_names can't be set automatically within `Trainer`. Note that empty label_names list will be used instead.\n"
     ]
    },
    {
     "data": {
      "text/html": [
       "\n",
       "    <div>\n",
       "      \n",
       "      <progress value='9375' max='9375' style='width:300px; height:20px; vertical-align: middle;'></progress>\n",
       "      [9375/9375 42:02, Epoch 5/5]\n",
       "    </div>\n",
       "    <table border=\"1\" class=\"dataframe\">\n",
       "  <thead>\n",
       " <tr style=\"text-align: left;\">\n",
       "      <th>Step</th>\n",
       "      <th>Training Loss</th>\n",
       "    </tr>\n",
       "  </thead>\n",
       "  <tbody>\n",
       "    <tr>\n",
       "      <td>500</td>\n",
       "      <td>0.731900</td>\n",
       "    </tr>\n",
       "    <tr>\n",
       "      <td>1000</td>\n",
       "      <td>0.293000</td>\n",
       "    </tr>\n",
       "    <tr>\n",
       "      <td>1500</td>\n",
       "      <td>0.275300</td>\n",
       "    </tr>\n",
       "    <tr>\n",
       "      <td>2000</td>\n",
       "      <td>0.273800</td>\n",
       "    </tr>\n",
       "    <tr>\n",
       "      <td>2500</td>\n",
       "      <td>0.261900</td>\n",
       "    </tr>\n",
       "    <tr>\n",
       "      <td>3000</td>\n",
       "      <td>0.251300</td>\n",
       "    </tr>\n",
       "    <tr>\n",
       "      <td>3500</td>\n",
       "      <td>0.255300</td>\n",
       "    </tr>\n",
       "    <tr>\n",
       "      <td>4000</td>\n",
       "      <td>0.243300</td>\n",
       "    </tr>\n",
       "    <tr>\n",
       "      <td>4500</td>\n",
       "      <td>0.244100</td>\n",
       "    </tr>\n",
       "    <tr>\n",
       "      <td>5000</td>\n",
       "      <td>0.241000</td>\n",
       "    </tr>\n",
       "    <tr>\n",
       "      <td>5500</td>\n",
       "      <td>0.239900</td>\n",
       "    </tr>\n",
       "    <tr>\n",
       "      <td>6000</td>\n",
       "      <td>0.230900</td>\n",
       "    </tr>\n",
       "    <tr>\n",
       "      <td>6500</td>\n",
       "      <td>0.236400</td>\n",
       "    </tr>\n",
       "    <tr>\n",
       "      <td>7000</td>\n",
       "      <td>0.240400</td>\n",
       "    </tr>\n",
       "    <tr>\n",
       "      <td>7500</td>\n",
       "      <td>0.228000</td>\n",
       "    </tr>\n",
       "    <tr>\n",
       "      <td>8000</td>\n",
       "      <td>0.226400</td>\n",
       "    </tr>\n",
       "    <tr>\n",
       "      <td>8500</td>\n",
       "      <td>0.226200</td>\n",
       "    </tr>\n",
       "    <tr>\n",
       "      <td>9000</td>\n",
       "      <td>0.230800</td>\n",
       "    </tr>\n",
       "  </tbody>\n",
       "</table><p>"
      ],
      "text/plain": [
       "<IPython.core.display.HTML object>"
      ]
     },
     "metadata": {},
     "output_type": "display_data"
    },
    {
     "data": {
      "text/plain": [
       "TrainOutput(global_step=9375, training_loss=0.27213731201171876, metrics={'train_runtime': 2524.4767, 'train_samples_per_second': 237.673, 'train_steps_per_second': 3.714, 'total_flos': 3.98768246784e+16, 'train_loss': 0.27213731201171876, 'epoch': 5.0})"
      ]
     },
     "execution_count": 10,
     "metadata": {},
     "output_type": "execute_result"
    }
   ],
   "source": [
    "#Trainer setup\n",
    "accuracy = evaluate.load(\"accuracy\")\n",
    "\n",
    "def compute_metrics(eval_pred):\n",
    "    logits, labels = eval_pred\n",
    "    preds = np.argmax(logits, axis=-1)\n",
    "    return {\"accuracy\": accuracy.compute(predictions=preds, references=labels)}\n",
    "\n",
    "args = TrainingArguments(\n",
    "    output_dir=\"./results\",\n",
    "    per_device_train_batch_size=64,\n",
    "    gradient_accumulation_steps=1,\n",
    "    fp16=True,\n",
    "    per_device_eval_batch_size=32,\n",
    "    learning_rate=2e-5,\n",
    "    num_train_epochs=5,\n",
    "    weight_decay=0.01,\n",
    "    label_smoothing_factor=0.0,\n",
    "    logging_dir=\"./logs\"\n",
    ")\n",
    "\n",
    "trainer = Trainer(\n",
    "    model=model,\n",
    "    args=args,\n",
    "    train_dataset = train_dataset.shuffle(seed=42),\n",
    "    eval_dataset=train_dataset.shuffle(seed=42).select(range(2000)),\n",
    "    tokenizer=tokenizer,\n",
    "    data_collator=DataCollatorWithPadding(tokenizer),\n",
    "    compute_metrics=compute_metrics\n",
    ")\n",
    "trainer.train()"
   ]
  },
  {
   "cell_type": "code",
   "execution_count": null,
   "id": "15b442a1",
   "metadata": {
    "colab": {
     "base_uri": "https://localhost:8080/",
     "height": 17
    },
    "id": "15b442a1",
    "outputId": "6326ccd7-5f3b-4547-af9c-674dc85fa33d"
   },
   "outputs": [
    {
     "data": {
      "text/html": [],
      "text/plain": [
       "<IPython.core.display.HTML object>"
      ]
     },
     "metadata": {},
     "output_type": "display_data"
    },
    {
     "data": {
      "application/javascript": "\n    async function download(id, filename, size) {\n      if (!google.colab.kernel.accessAllowed) {\n        return;\n      }\n      const div = document.createElement('div');\n      const label = document.createElement('label');\n      label.textContent = `Downloading \"${filename}\": `;\n      div.appendChild(label);\n      const progress = document.createElement('progress');\n      progress.max = size;\n      div.appendChild(progress);\n      document.body.appendChild(div);\n\n      const buffers = [];\n      let downloaded = 0;\n\n      const channel = await google.colab.kernel.comms.open(id);\n      // Send a message to notify the kernel that we're ready.\n      channel.send({})\n\n      for await (const message of channel.messages) {\n        // Send a message to notify the kernel that we're ready.\n        channel.send({})\n        if (message.buffers) {\n          for (const buffer of message.buffers) {\n            buffers.push(buffer);\n            downloaded += buffer.byteLength;\n            progress.value = downloaded;\n          }\n        }\n      }\n      const blob = new Blob(buffers, {type: 'application/binary'});\n      const a = document.createElement('a');\n      a.href = window.URL.createObjectURL(blob);\n      a.download = filename;\n      div.appendChild(a);\n      a.click();\n      div.remove();\n    }\n  ",
      "text/plain": [
       "<IPython.core.display.Javascript object>"
      ]
     },
     "metadata": {},
     "output_type": "display_data"
    },
    {
     "data": {
      "application/javascript": "download(\"download_48ec8b44-df36-49f4-80f4-e0a73ff5f552\", \"submission.csv\", 54899)",
      "text/plain": [
       "<IPython.core.display.Javascript object>"
      ]
     },
     "metadata": {},
     "output_type": "display_data"
    }
   ],
   "source": [
    "\n",
    "#Predict\n",
    "preds = trainer.predict(test_dataset)\n",
    "\n",
    "if preds.predictions.ndim == 2:\n",
    "    labels = np.argmax(preds.predictions, axis=-1)\n",
    "else:\n",
    "    labels = preds.predictions.astype(int)\n",
    "\n",
    "#Create submission with correct headers: \"ID\", \"Label\"\n",
    "submission = pd.DataFrame({\n",
    "    \"ID\": test_df[\"id\"] if \"id\" in test_df.columns else np.arange(len(labels)),\n",
    "    \"Label\": labels.astype(int)\n",
    "})\n",
    "\n",
    "submission.to_csv(\"submission.csv\", index=False, encoding=\"utf-8\")\n",
    "\n",
    "from google.colab import files\n",
    "files.download(\"submission.csv\")"
   ]
  },
  {
   "cell_type": "code",
   "execution_count": null,
   "id": "arFn8GsgvCly",
   "metadata": {
    "colab": {
     "base_uri": "https://localhost:8080/",
     "height": 773
    },
    "id": "arFn8GsgvCly",
    "outputId": "09433f06-93c1-4b5d-cce8-8d56b6119f5f"
   },
   "outputs": [
    {
     "name": "stdout",
     "output_type": "stream",
     "text": [
      "Total Parameters: 125537288\n",
      "Trainable Parameters: 888580\n"
     ]
    },
    {
     "data": {
      "text/html": [
       "\n",
       "    <div>\n",
       "      \n",
       "      <progress value='378' max='63' style='width:300px; height:20px; vertical-align: middle;'></progress>\n",
       "      [63/63 17:06]\n",
       "    </div>\n",
       "    "
      ],
      "text/plain": [
       "<IPython.core.display.HTML object>"
      ]
     },
     "metadata": {},
     "output_type": "display_data"
    },
    {
     "name": "stderr",
     "output_type": "stream",
     "text": [
      "Trainer is attempting to log a value of \"{'accuracy': 0.9225}\" of type <class 'dict'> for key \"eval/accuracy\" as a scalar. This invocation of Tensorboard's writer.add_scalar() is incorrect so we dropped this attribute.\n"
     ]
    },
    {
     "name": "stdout",
     "output_type": "stream",
     "text": [
      "\n",
      "Final Evaluation Metrics:\n",
      "Metric                              Value\n",
      "--------------------------------------------------\n",
      "eval_loss                           0.2365\n",
      "eval_accuracy.accuracy              0.9225\n",
      "eval_runtime                        3.4045\n",
      "eval_samples_per_second             587.4650\n",
      "eval_steps_per_second               18.5050\n",
      "epoch                               5.0000\n"
     ]
    },
    {
     "data": {
      "image/png": "[encoded data removed]",
      "text/plain": [
       "<Figure size 1200x500 with 1 Axes>"
      ]
     },
     "metadata": {},
     "output_type": "display_data"
    }
   ],
   "source": [
    "import matplotlib.pyplot as plt\n",
    "\n",
    "# Extract step-wise logs\n",
    "logs = trainer.state.log_history\n",
    "\n",
    "train_steps = [log[\"step\"] for log in logs if \"step\" in log and \"loss\" in log]\n",
    "train_loss = [log[\"loss\"] for log in logs if \"loss\" in log]\n",
    "\n",
    "eval_steps = [log[\"step\"] for log in logs if \"step\" in log and \"eval_loss\" in log]\n",
    "eval_loss = [log[\"eval_loss\"] for log in logs if \"eval_loss\" in log]\n",
    "eval_accuracy = [log[\"eval_accuracy\"] for log in logs if \"eval_accuracy\" in log]\n",
    "\n",
    "# Log parameter counts\n",
    "total_params = sum(p.numel() for p in model.parameters())\n",
    "trainable_params = sum(p.numel() for p in model.parameters() if p.requires_grad)\n",
    "\n",
    "print(f\"Total Parameters: {total_params}\")\n",
    "print(f\"Trainable Parameters: {trainable_params}\")\n",
    "\n",
    "def print_evaluation_metrics(metrics: dict):\n",
    "    print(\"\\nFinal Evaluation Metrics:\")\n",
    "    print(f\"{'Metric':<35} {'Value'}\")\n",
    "    print(\"-\" * 50)\n",
    "\n",
    "    for key, value in metrics.items():\n",
    "        if isinstance(value, dict):\n",
    "            for sub_key, sub_value in value.items():\n",
    "                full_key = f\"{key}.{sub_key}\"\n",
    "                print(f\"{full_key:<35} {sub_value:.4f}\")\n",
    "        elif isinstance(value, float):\n",
    "            print(f\"{key:<35} {value:.4f}\")\n",
    "        else:\n",
    "            print(f\"{key:<35} {value}\")\n",
    "\n",
    "\n",
    "final_eval = trainer.evaluate()\n",
    "print_evaluation_metrics(final_eval)\n",
    "\n",
    "#Plotting\n",
    "plt.figure(figsize=(12, 5))\n",
    "\n",
    "#Loss plot\n",
    "plt.subplot(1, 2, 1)\n",
    "if train_steps and train_loss:\n",
    "    plt.plot(train_steps, train_loss, label=\"Train Loss\")\n",
    "plt.title(\"Loss vs Steps\")\n",
    "plt.xlabel(\"Steps\")\n",
    "plt.ylabel(\"Loss\")\n",
    "plt.legend()\n",
    "\n",
    "plt.tight_layout()\n",
    "plt.show()"
   ]
  }
 ],
 "metadata": {
  "accelerator": "GPU",
  "colab": {
   "gpuType": "T4",
   "provenance": []
  },
  "kernelspec": {
   "display_name": "Python 3",
   "name": "python3"
  },
  "language_info": {
   "name": "python"
  }
 },
 "nbformat": 4,
 "nbformat_minor": 5
}
