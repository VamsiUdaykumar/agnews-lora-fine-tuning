{
  "cells": [
    {
      "cell_type": "markdown",
      "id": "39254e46",
      "metadata": {
        "id": "39254e46"
      },
      "source": [
        "**Configuration Summary:**\n",
        "- Model: roberta-base + LoRA\n",
        "- LoRA Rank: 8, Alpha: 16\n",
        "- Dropout: 0.1\n",
        "- Target Modules: query, value\n",
        "- Epochs: 5\n",
        "- Learning Rate: 2.5e-5\n",
        "- Max Length: 128\n",
        "- Warmup Ratio: 0.1\n",
        "- Scheduler: linear\n",
        "- Batch Size: 64\n",
        "- Seed: 42\n",
        "- No label smoothing"
      ]
    },
    {
      "cell_type": "code",
      "execution_count": null,
      "id": "d0812279",
      "metadata": {
        "id": "d0812279"
      },
      "outputs": [],
      "source": [
        "!pip install -q transformers datasets peft accelerate evaluate"
      ]
    },
    {
      "cell_type": "code",
      "execution_count": null,
      "id": "c2dce1b3",
      "metadata": {
        "id": "c2dce1b3"
      },
      "outputs": [],
      "source": [
        "#Load and tokenize dataset\n",
        "from datasets import load_dataset, Dataset\n",
        "import pandas as pd\n",
        "from transformers import RobertaTokenizer\n",
        "\n",
        "dataset = load_dataset(\"ag_news\")\n",
        "split_data = dataset[\"train\"].train_test_split(test_size=0.1, seed=42)\n",
        "train_data = split_data[\"train\"]\n",
        "val_data = split_data[\"test\"]\n",
        "\n",
        "tokenizer = RobertaTokenizer.from_pretrained(\"roberta-base\")\n",
        "\n",
        "def tokenize(batch):\n",
        "    return tokenizer(batch[\"text\"], padding=\"max_length\", truncation=True, max_length=128)\n",
        "\n",
        "train_dataset = train_data.map(tokenize, batched=True).rename_column(\"label\", \"labels\").remove_columns([\"text\"]).with_format(\"torch\")\n",
        "val_dataset = val_data.map(tokenize, batched=True).rename_column(\"label\", \"labels\").remove_columns([\"text\"]).with_format(\"torch\")"
      ]
    },
    {
      "cell_type": "code",
      "execution_count": null,
      "id": "bc08aba0",
      "metadata": {
        "id": "bc08aba0"
      },
      "outputs": [],
      "source": [
        "#Setup LoRA model\n",
        "from transformers import RobertaForSequenceClassification\n",
        "from peft import get_peft_model, LoraConfig, TaskType\n",
        "\n",
        "model = RobertaForSequenceClassification.from_pretrained(\"roberta-base\", num_labels=4)\n",
        "for p in model.base_model.parameters():\n",
        "    p.requires_grad = False\n",
        "\n",
        "config = LoraConfig(\n",
        "    r=8,\n",
        "    lora_alpha=16,\n",
        "    lora_dropout=0.1,\n",
        "    bias=\"none\",\n",
        "    target_modules=[\"query\", \"value\"],\n",
        "    task_type=TaskType.SEQ_CLS\n",
        ")\n",
        "\n",
        "model = get_peft_model(model, config)\n",
        "print(\"Trainable parameters:\", sum(p.numel() for p in model.parameters() if p.requires_grad))\n",
        "print(\"Total parameters:\", sum(p.numel() for p in model.parameters()))"
      ]
    },
    {
      "cell_type": "code",
      "execution_count": null,
      "id": "ffd9fedc",
      "metadata": {
        "id": "ffd9fedc"
      },
      "outputs": [],
      "source": [
        "#Training\n",
        "from transformers import TrainingArguments, Trainer, DataCollatorWithPadding, set_seed\n",
        "import evaluate\n",
        "import numpy as np\n",
        "\n",
        "set_seed(42)\n",
        "args = TrainingArguments(\n",
        "    output_dir=\"./final_model\",\n",
        "    learning_rate=2.5e-5,\n",
        "    per_device_train_batch_size=64,\n",
        "    per_device_eval_batch_size=32,\n",
        "    num_train_epochs=5,\n",
        "    fp16=True,\n",
        "    weight_decay=0.01,\n",
        "    warmup_ratio=0.1,\n",
        "    lr_scheduler_type=\"linear\",\n",
        "    logging_dir=\"./logs\",\n",
        "    report_to=\"none\",\n",
        "    seed=42,\n",
        "    evaluation_strategy=\"steps\",\n",
        "    eval_steps=250\n",
        ")\n",
        "\n",
        "accuracy = evaluate.load(\"accuracy\")\n",
        "def compute_metrics(eval_pred):\n",
        "    logits, labels = eval_pred\n",
        "    preds = np.argmax(logits, axis=-1)\n",
        "    return accuracy.compute(predictions=preds, references=labels)\n",
        "\n",
        "trainer = Trainer(\n",
        "    model=model,\n",
        "    args=args,\n",
        "    train_dataset=train_dataset,\n",
        "    eval_dataset=val_dataset,\n",
        "    tokenizer=tokenizer,\n",
        "    data_collator=DataCollatorWithPadding(tokenizer),\n",
        "    compute_metrics=compute_metrics\n",
        ")\n",
        "\n",
        "trainer.train()"
      ]
    },
    {
      "cell_type": "code",
      "execution_count": null,
      "id": "13af19a3",
      "metadata": {
        "id": "13af19a3"
      },
      "outputs": [],
      "source": [
        "#Plot loss and accuracy\n",
        "import matplotlib.pyplot as plt\n",
        "\n",
        "log = trainer.state.log_history\n",
        "losses, accs, steps = [], [], []\n",
        "\n",
        "for entry in log:\n",
        "    if \"loss\" in entry and \"step\" in entry:\n",
        "        steps.append(entry[\"step\"])\n",
        "        losses.append(entry[\"loss\"])\n",
        "    if \"eval_accuracy\" in entry:\n",
        "        accs.append(entry[\"eval_accuracy\"])\n",
        "\n",
        "plt.figure(figsize=(10, 5))\n",
        "plt.plot(steps, losses, label=\"Train Loss\")\n",
        "eval_steps = [entry[\"step\"] for entry in log if \"eval_accuracy\" in entry]\n",
        "if eval_steps:\n",
        "    plt.plot(eval_steps, accs, label=\"Eval Accuracy\")\n",
        "plt.xlabel(\"Step\")\n",
        "plt.ylabel(\"Metric\")\n",
        "plt.title(\"Training Metrics\")\n",
        "plt.legend()\n",
        "plt.grid(True)\n",
        "plt.show()"
      ]
    },
    {
      "cell_type": "code",
      "execution_count": null,
      "id": "6ae2cc45",
      "metadata": {
        "id": "6ae2cc45"
      },
      "outputs": [],
      "source": [
        "#Metrics on validation set\n",
        "results = trainer.evaluate(val_dataset)\n",
        "print(\"\\n Validation Metrics:\")\n",
        "for k, v in results.items():\n",
        "    print(f\"{k}: {v:.4f}\" if isinstance(v, float) else f\"{k}: {v}\")"
      ]
    },
    {
      "cell_type": "code",
      "execution_count": null,
      "id": "f3f81b5c",
      "metadata": {
        "id": "f3f81b5c"
      },
      "outputs": [],
      "source": [
        "#Generate submission file\n",
        "from google.colab import files\n",
        "uploaded = files.upload()\n",
        "\n",
        "pkl_file = [k for k in uploaded if k.endswith(\".pkl\")][0]\n",
        "df_unlabelled = pd.read_pickle(pkl_file)\n",
        "if hasattr(df_unlabelled, \"to_pandas\"):\n",
        "    df_unlabelled = df_unlabelled.to_pandas()\n",
        "\n",
        "submission_dataset = Dataset.from_pandas(df_unlabelled[[\"text\"]])\n",
        "submission_dataset = submission_dataset.map(lambda x: tokenizer(x[\"text\"], padding=\"max_length\", truncation=True, max_length=128), batched=True)\n",
        "submission_dataset = submission_dataset.remove_columns([\"text\"]).with_format(\"torch\")\n",
        "\n",
        "preds = trainer.predict(submission_dataset)\n",
        "labels = np.argmax(preds.predictions, axis=-1)\n",
        "\n",
        "submission = pd.DataFrame({\n",
        "    \"ID\": df_unlabelled[\"id\"] if \"id\" in df_unlabelled.columns else np.arange(len(labels)),\n",
        "    \"Label\": labels\n",
        "})\n",
        "submission.to_csv(\"submission.csv\", index=False, encoding=\"utf-8\")\n",
        "files.download(\"submission.csv\")"
      ]
    }
  ],
  "metadata": {
    "colab": {
      "provenance": [],
      "gpuType": "T4"
    },
    "accelerator": "GPU"
  },
  "nbformat": 4,
  "nbformat_minor": 5
}